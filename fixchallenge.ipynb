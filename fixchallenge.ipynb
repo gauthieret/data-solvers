{
 "cells": [
  {
   "cell_type": "code",
   "execution_count": 1,
   "id": "f9a7148d",
   "metadata": {},
   "outputs": [
    {
     "name": "stdout",
     "output_type": "stream",
     "text": [
      "\n",
      "\u001b[91mThis might take a minute. Please be patient and stay here.\n",
      "\n",
      "\n",
      "Great! You made it to here :-)\n",
      "So you have read the message on Slack. Cool!\n",
      "\n",
      "But did you leave a little green check or some other emoji\n",
      "on the channel, so the teacher actually knows you saw it?\n",
      "\n",
      "If not, now is the time to do it, before you can go to\n",
      "the next part of this little puzzle.\n",
      "\n",
      "Did you do it?    yes\n",
      "\n",
      "\u001b[92mThank you, very much appreciated.\n",
      "Now, let's move on to the next part...\n",
      "\n",
      "\u001b[94mFollow the instructions in the following piece of text to get your reward.\n",
      "Oh, it has been encrypted. :grinning-face:\n",
      "So you will have to find the function to decode it...\n",
      "\u001b[95m \n",
      "tIVZG DLIP tZFGSRVI !!!\n",
      "bLF SZEV WVXLWVW GSRH NVHHZTV, ZMW HLOEVW GSV URIHG KZIG LU GSRH KFAAOV.\n",
      "mLD, BLF XZM TL GL GSV HVXLMW KZIG GL URMZOOB XOZRN BLFI IVDZIW:\n",
      "\n",
      "tL LM ZMW URMW GSV UFMXGRLM GL HFYNRG BLFI IVHFOG GL GSV TZNV KOZGULIN.\n",
      "\n"
     ]
    }
   ],
   "source": [
    "import fixchallenge"
   ]
  },
  {
   "cell_type": "code",
   "execution_count": 13,
   "id": "99a6d054",
   "metadata": {},
   "outputs": [
    {
     "data": {
      "text/plain": [
       "'Great work Gauthier !!!\\nYou have decoded this message, and solved the first part of this puzzle.\\nNow, you can go to the second part to finally claim your reward:\\n\\nGo on and find the function to submit your result to the game platform.'"
      ]
     },
     "execution_count": 13,
     "metadata": {},
     "output_type": "execute_result"
    }
   ],
   "source": [
    "from fixchallenge import __decoder, submit\n",
    "text = \"\"\"tIVZG DLIP tZFGSRVI !!!\n",
    "bLF SZEV WVXLWVW GSRH NVHHZTV, ZMW HLOEVW GSV URIHG KZIG LU GSRH KFAAOV.\n",
    "mLD, BLF XZM TL GL GSV HVXLMW KZIG GL URMZOOB XOZRN BLFI IVDZIW:\n",
    "\n",
    "tL LM ZMW URMW GSV UFMXGRLM GL HFYNRG BLFI IVHFOG GL GSV TZNV KOZGULIN.\"\"\"\n",
    "\n",
    "__decoder(text)"
   ]
  },
  {
   "cell_type": "code",
   "execution_count": 10,
   "id": "3fc35071",
   "metadata": {},
   "outputs": [
    {
     "name": "stdout",
     "output_type": "stream",
     "text": [
      "Amazing, you did it. Now go claim your reward!\n"
     ]
    }
   ],
   "source": [
    "submit()"
   ]
  },
  {
   "cell_type": "code",
   "execution_count": null,
   "id": "a47dae16",
   "metadata": {},
   "outputs": [],
   "source": []
  },
  {
   "cell_type": "code",
   "execution_count": 14,
   "id": "e363848a",
   "metadata": {},
   "outputs": [
    {
     "name": "stdout",
     "output_type": "stream",
     "text": [
      "/Users/Gauthier/code/gauthieret/data-solvers\r\n"
     ]
    }
   ],
   "source": [
    "!pwd"
   ]
  },
  {
   "cell_type": "code",
   "execution_count": null,
   "id": "a4ae6c77",
   "metadata": {},
   "outputs": [],
   "source": []
  }
 ],
 "metadata": {
  "kernelspec": {
   "display_name": "Python 3 (ipykernel)",
   "language": "python",
   "name": "python3"
  },
  "language_info": {
   "codemirror_mode": {
    "name": "ipython",
    "version": 3
   },
   "file_extension": ".py",
   "mimetype": "text/x-python",
   "name": "python",
   "nbconvert_exporter": "python",
   "pygments_lexer": "ipython3",
   "version": "3.10.6"
  },
  "toc": {
   "base_numbering": 1,
   "nav_menu": {},
   "number_sections": true,
   "sideBar": true,
   "skip_h1_title": false,
   "title_cell": "Table of Contents",
   "title_sidebar": "Contents",
   "toc_cell": false,
   "toc_position": {},
   "toc_section_display": true,
   "toc_window_display": false
  }
 },
 "nbformat": 4,
 "nbformat_minor": 5
}
